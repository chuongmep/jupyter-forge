{
 "cells": [
  {
   "cell_type": "code",
   "id": "initial_id",
   "metadata": {
    "collapsed": true,
    "ExecuteTime": {
     "end_time": "2024-12-17T07:27:10.320611Z",
     "start_time": "2024-12-17T07:27:10.317022Z"
    }
   },
   "source": [
    "from context import JupyterForge\n",
    "from aps_toolkit import Auth"
   ],
   "outputs": [],
   "execution_count": 6
  },
  {
   "cell_type": "code",
   "id": "ef968bc9afae7ded",
   "metadata": {
    "ExecuteTime": {
     "end_time": "2024-12-17T07:26:36.308512Z",
     "start_time": "2024-12-17T07:25:57.357722Z"
    }
   },
   "source": [
    "urn = \"dXJuOmFkc2sud2lwcHJvZDpmcy5maWxlOnZmLlFsa1ZtVU5RUmYtanMtd3dLQ2dLM1E_dmVyc2lvbj0x\"\n",
    "token = Auth().auth2leg()\n",
    "forge_viewer = JupyterForge(urn,token,debug_mode=True,port=54364)\n",
    "# forge_viewer = JupyterForge(urn,token)"
   ],
   "outputs": [
    {
     "name": "stdout",
     "output_type": "stream",
     "text": [
      "Port 54364 is not in use, start init server dir: D:\\API\\Forge\\jupyter-forge\\src\\template\n"
     ]
    },
    {
     "ename": "KeyboardInterrupt",
     "evalue": "",
     "output_type": "error",
     "traceback": [
      "\u001B[1;31m---------------------------------------------------------------------------\u001B[0m",
      "\u001B[1;31mKeyboardInterrupt\u001B[0m                         Traceback (most recent call last)",
      "Cell \u001B[1;32mIn[2], line 3\u001B[0m\n\u001B[0;32m      1\u001B[0m urn \u001B[38;5;241m=\u001B[39m \u001B[38;5;124m\"\u001B[39m\u001B[38;5;124mdXJuOmFkc2sud2lwcHJvZDpmcy5maWxlOnZmLlFsa1ZtVU5RUmYtanMtd3dLQ2dLM1E_dmVyc2lvbj0x\u001B[39m\u001B[38;5;124m\"\u001B[39m\n\u001B[0;32m      2\u001B[0m token \u001B[38;5;241m=\u001B[39m Auth()\u001B[38;5;241m.\u001B[39mauth2leg()\n\u001B[1;32m----> 3\u001B[0m forge_viewer \u001B[38;5;241m=\u001B[39m \u001B[43mJupyterForge\u001B[49m\u001B[43m(\u001B[49m\u001B[43murn\u001B[49m\u001B[43m,\u001B[49m\u001B[43mtoken\u001B[49m\u001B[43m,\u001B[49m\u001B[43mdebug_mode\u001B[49m\u001B[38;5;241;43m=\u001B[39;49m\u001B[38;5;28;43;01mTrue\u001B[39;49;00m\u001B[43m,\u001B[49m\u001B[43mport\u001B[49m\u001B[38;5;241;43m=\u001B[39;49m\u001B[38;5;241;43m54364\u001B[39;49m\u001B[43m)\u001B[49m\n\u001B[0;32m      4\u001B[0m \u001B[38;5;66;03m# forge_viewer = JupyterForge(urn,token)\u001B[39;00m\n",
      "File \u001B[1;32mD:\\API\\Forge\\jupyter-forge\\src\\jupyter_forge.py:24\u001B[0m, in \u001B[0;36mJupyterForge.__init__\u001B[1;34m(self, urn, token, port, debug_mode)\u001B[0m\n\u001B[0;32m     22\u001B[0m \u001B[38;5;28mself\u001B[39m\u001B[38;5;241m.\u001B[39mdir \u001B[38;5;241m=\u001B[39m \u001B[38;5;28mself\u001B[39m\u001B[38;5;241m.\u001B[39mget_current_dir()\n\u001B[0;32m     23\u001B[0m \u001B[38;5;28mself\u001B[39m\u001B[38;5;241m.\u001B[39mfile_output_name \u001B[38;5;241m=\u001B[39m \u001B[38;5;124m\"\u001B[39m\u001B[38;5;124mrendered.html\u001B[39m\u001B[38;5;124m\"\u001B[39m\n\u001B[1;32m---> 24\u001B[0m \u001B[38;5;28;43mself\u001B[39;49m\u001B[38;5;241;43m.\u001B[39;49m\u001B[43mstart_a_server\u001B[49m\u001B[43m(\u001B[49m\u001B[38;5;28;43mself\u001B[39;49m\u001B[38;5;241;43m.\u001B[39;49m\u001B[43mdir\u001B[49m\u001B[43m)\u001B[49m\n",
      "File \u001B[1;32mD:\\API\\Forge\\jupyter-forge\\src\\jupyter_forge.py:93\u001B[0m, in \u001B[0;36mJupyterForge.start_a_server\u001B[1;34m(self, dir)\u001B[0m\n\u001B[0;32m     91\u001B[0m host \u001B[38;5;241m=\u001B[39m \u001B[38;5;124m\"\u001B[39m\u001B[38;5;124m127.0.0.1\u001B[39m\u001B[38;5;124m\"\u001B[39m\n\u001B[0;32m     92\u001B[0m server \u001B[38;5;241m=\u001B[39m HTTPServer((host, \u001B[38;5;28mself\u001B[39m\u001B[38;5;241m.\u001B[39mport), SimpleHTTPRequestHandler)\n\u001B[1;32m---> 93\u001B[0m \u001B[43mserver\u001B[49m\u001B[38;5;241;43m.\u001B[39;49m\u001B[43mserve_forever\u001B[49m\u001B[43m(\u001B[49m\u001B[43m)\u001B[49m\n\u001B[0;32m     94\u001B[0m \u001B[38;5;66;03m# process = Popen([\"python\", \"-m\", \"http.server\", str(self.port)], cwd=dir, stdout=PIPE, stderr=PIPE)\u001B[39;00m\n\u001B[0;32m     95\u001B[0m \u001B[38;5;28;01mif\u001B[39;00m \u001B[38;5;28mself\u001B[39m\u001B[38;5;241m.\u001B[39mdebug_mode:\n",
      "File \u001B[1;32m~\\AppData\\Local\\Programs\\Python\\Python312\\Lib\\socketserver.py:235\u001B[0m, in \u001B[0;36mBaseServer.serve_forever\u001B[1;34m(self, poll_interval)\u001B[0m\n\u001B[0;32m    232\u001B[0m selector\u001B[38;5;241m.\u001B[39mregister(\u001B[38;5;28mself\u001B[39m, selectors\u001B[38;5;241m.\u001B[39mEVENT_READ)\n\u001B[0;32m    234\u001B[0m \u001B[38;5;28;01mwhile\u001B[39;00m \u001B[38;5;129;01mnot\u001B[39;00m \u001B[38;5;28mself\u001B[39m\u001B[38;5;241m.\u001B[39m__shutdown_request:\n\u001B[1;32m--> 235\u001B[0m     ready \u001B[38;5;241m=\u001B[39m \u001B[43mselector\u001B[49m\u001B[38;5;241;43m.\u001B[39;49m\u001B[43mselect\u001B[49m\u001B[43m(\u001B[49m\u001B[43mpoll_interval\u001B[49m\u001B[43m)\u001B[49m\n\u001B[0;32m    236\u001B[0m     \u001B[38;5;66;03m# bpo-35017: shutdown() called during select(), exit immediately.\u001B[39;00m\n\u001B[0;32m    237\u001B[0m     \u001B[38;5;28;01mif\u001B[39;00m \u001B[38;5;28mself\u001B[39m\u001B[38;5;241m.\u001B[39m__shutdown_request:\n",
      "File \u001B[1;32m~\\AppData\\Local\\Programs\\Python\\Python312\\Lib\\selectors.py:323\u001B[0m, in \u001B[0;36mSelectSelector.select\u001B[1;34m(self, timeout)\u001B[0m\n\u001B[0;32m    321\u001B[0m ready \u001B[38;5;241m=\u001B[39m []\n\u001B[0;32m    322\u001B[0m \u001B[38;5;28;01mtry\u001B[39;00m:\n\u001B[1;32m--> 323\u001B[0m     r, w, _ \u001B[38;5;241m=\u001B[39m \u001B[38;5;28;43mself\u001B[39;49m\u001B[38;5;241;43m.\u001B[39;49m\u001B[43m_select\u001B[49m\u001B[43m(\u001B[49m\u001B[38;5;28;43mself\u001B[39;49m\u001B[38;5;241;43m.\u001B[39;49m\u001B[43m_readers\u001B[49m\u001B[43m,\u001B[49m\u001B[43m \u001B[49m\u001B[38;5;28;43mself\u001B[39;49m\u001B[38;5;241;43m.\u001B[39;49m\u001B[43m_writers\u001B[49m\u001B[43m,\u001B[49m\u001B[43m \u001B[49m\u001B[43m[\u001B[49m\u001B[43m]\u001B[49m\u001B[43m,\u001B[49m\u001B[43m \u001B[49m\u001B[43mtimeout\u001B[49m\u001B[43m)\u001B[49m\n\u001B[0;32m    324\u001B[0m \u001B[38;5;28;01mexcept\u001B[39;00m \u001B[38;5;167;01mInterruptedError\u001B[39;00m:\n\u001B[0;32m    325\u001B[0m     \u001B[38;5;28;01mreturn\u001B[39;00m ready\n",
      "File \u001B[1;32m~\\AppData\\Local\\Programs\\Python\\Python312\\Lib\\selectors.py:314\u001B[0m, in \u001B[0;36mSelectSelector._select\u001B[1;34m(self, r, w, _, timeout)\u001B[0m\n\u001B[0;32m    313\u001B[0m \u001B[38;5;28;01mdef\u001B[39;00m \u001B[38;5;21m_select\u001B[39m(\u001B[38;5;28mself\u001B[39m, r, w, _, timeout\u001B[38;5;241m=\u001B[39m\u001B[38;5;28;01mNone\u001B[39;00m):\n\u001B[1;32m--> 314\u001B[0m     r, w, x \u001B[38;5;241m=\u001B[39m \u001B[43mselect\u001B[49m\u001B[38;5;241;43m.\u001B[39;49m\u001B[43mselect\u001B[49m\u001B[43m(\u001B[49m\u001B[43mr\u001B[49m\u001B[43m,\u001B[49m\u001B[43m \u001B[49m\u001B[43mw\u001B[49m\u001B[43m,\u001B[49m\u001B[43m \u001B[49m\u001B[43mw\u001B[49m\u001B[43m,\u001B[49m\u001B[43m \u001B[49m\u001B[43mtimeout\u001B[49m\u001B[43m)\u001B[49m\n\u001B[0;32m    315\u001B[0m     \u001B[38;5;28;01mreturn\u001B[39;00m r, w \u001B[38;5;241m+\u001B[39m x, []\n",
      "\u001B[1;31mKeyboardInterrupt\u001B[0m: "
     ]
    }
   ],
   "execution_count": 2
  },
  {
   "cell_type": "code",
   "id": "be64340ce7c7118a",
   "metadata": {
    "ExecuteTime": {
     "end_time": "2024-12-17T07:17:23.370018Z",
     "start_time": "2024-12-17T07:17:23.363783Z"
    }
   },
   "source": [
    "forge_viewer.show([3100],600,400)"
   ],
   "outputs": [
    {
     "name": "stdout",
     "output_type": "stream",
     "text": [
      "file_path D:\\API\\Forge\\jupyter-forge\\src\\template\\index.html\n",
      "http://localhost:54364/rendered.html\n"
     ]
    },
    {
     "data": {
      "text/plain": [
       "<IPython.lib.display.IFrame at 0x1d4ae198bf0>"
      ],
      "text/html": [
       "\n",
       "        <iframe\n",
       "            width=\"600\"\n",
       "            height=\"400\"\n",
       "            src=\"http://localhost:54364/rendered.html\"\n",
       "            frameborder=\"0\"\n",
       "            allowfullscreen\n",
       "            \n",
       "        ></iframe>\n",
       "        "
      ]
     },
     "metadata": {},
     "output_type": "display_data"
    }
   ],
   "execution_count": 3
  }
 ],
 "metadata": {
  "kernelspec": {
   "display_name": "base",
   "language": "python",
   "name": "python3"
  },
  "language_info": {
   "codemirror_mode": {
    "name": "ipython",
    "version": 3
   },
   "file_extension": ".py",
   "mimetype": "text/x-python",
   "name": "python",
   "nbconvert_exporter": "python",
   "pygments_lexer": "ipython3",
   "version": "3.12.4"
  }
 },
 "nbformat": 4,
 "nbformat_minor": 5
}
