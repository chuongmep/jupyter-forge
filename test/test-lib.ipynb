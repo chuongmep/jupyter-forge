{
 "cells": [
  {
   "cell_type": "code",
   "id": "initial_id",
   "metadata": {
    "collapsed": true,
    "ExecuteTime": {
     "end_time": "2024-12-17T06:52:52.143525Z",
     "start_time": "2024-12-17T06:52:52.141234Z"
    }
   },
   "source": [
    "from context import JupyterForge\n",
    "from aps_toolkit import Auth"
   ],
   "outputs": [],
   "execution_count": 4
  },
  {
   "cell_type": "code",
   "id": "ef968bc9afae7ded",
   "metadata": {
    "ExecuteTime": {
     "end_time": "2024-12-17T06:52:56.803293Z",
     "start_time": "2024-12-17T06:52:52.148987Z"
    }
   },
   "source": [
    "urn = \"dXJuOmFkc2sud2lwcHJvZDpmcy5maWxlOnZmLlFsa1ZtVU5RUmYtanMtd3dLQ2dLM1E_dmVyc2lvbj0x\"\n",
    "token = Auth().auth2leg()\n",
    "forge_viewer = JupyterForge(urn,token,debug_mode=True,port=54364)\n",
    "# forge_viewer = JupyterForge(urn,token)"
   ],
   "outputs": [
    {
     "name": "stdout",
     "output_type": "stream",
     "text": [
      "Port 54364 is in use, kill it\n",
      "Server PID: 43087\n",
      "Server started successfully. Access: http://localhost:54364\n"
     ]
    }
   ],
   "execution_count": 5
  },
  {
   "cell_type": "code",
   "id": "be64340ce7c7118a",
   "metadata": {
    "ExecuteTime": {
     "end_time": "2024-12-17T06:52:56.814185Z",
     "start_time": "2024-12-17T06:52:56.809866Z"
    }
   },
   "source": [
    "forge_viewer.show([3100],600,400)"
   ],
   "outputs": [
    {
     "name": "stdout",
     "output_type": "stream",
     "text": [
      "http://localhost:54364/viewer_dynamic_rendered.html\n"
     ]
    },
    {
     "data": {
      "text/plain": [
       "<IPython.lib.display.IFrame at 0x105d79880>"
      ],
      "text/html": [
       "\n",
       "        <iframe\n",
       "            width=\"600\"\n",
       "            height=\"400\"\n",
       "            src=\"http://localhost:54364/viewer_dynamic_rendered.html\"\n",
       "            frameborder=\"0\"\n",
       "            allowfullscreen\n",
       "            \n",
       "        ></iframe>\n",
       "        "
      ]
     },
     "metadata": {},
     "output_type": "display_data"
    }
   ],
   "execution_count": 6
  }
 ],
 "metadata": {
  "kernelspec": {
   "display_name": "base",
   "language": "python",
   "name": "python3"
  },
  "language_info": {
   "codemirror_mode": {
    "name": "ipython",
    "version": 3
   },
   "file_extension": ".py",
   "mimetype": "text/x-python",
   "name": "python",
   "nbconvert_exporter": "python",
   "pygments_lexer": "ipython3",
   "version": "3.12.4"
  }
 },
 "nbformat": 4,
 "nbformat_minor": 5
}
