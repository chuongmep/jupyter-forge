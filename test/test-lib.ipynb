{
 "cells": [
  {
   "cell_type": "code",
   "id": "initial_id",
   "metadata": {
    "collapsed": true,
    "ExecuteTime": {
     "end_time": "2024-12-17T04:46:23.091535Z",
     "start_time": "2024-12-17T04:46:23.084979Z"
    }
   },
   "source": [
    "from src.jupyter_forge import JupyterForge\n",
    "from aps_toolkit import Auth"
   ],
   "outputs": [],
   "execution_count": 5
  },
  {
   "metadata": {
    "ExecuteTime": {
     "end_time": "2024-12-17T04:46:48.040968Z",
     "start_time": "2024-12-17T04:46:45.429254Z"
    }
   },
   "cell_type": "code",
   "source": [
    "urn = \"dXJuOmFkc2sud2lwcHJvZDpmcy5maWxlOnZmLkt6R2R1dDZzUklHZHhoNDlmeWZjQlE_dmVyc2lvbj00\"\n",
    "token = Auth().auth2leg()\n",
    "forge_viewer = JupyterForge(urn,token,debug_mode=True,port=54364)\n",
    "# forge_viewer = JupyterForge(urn,token)"
   ],
   "id": "ef968bc9afae7ded",
   "outputs": [
    {
     "name": "stdout",
     "output_type": "stream",
     "text": [
      "Port 54364 is in use, kill it\n",
      "Server started successfully. Access: http://localhost:54364\n"
     ]
    }
   ],
   "execution_count": 11
  },
  {
   "metadata": {},
   "cell_type": "code",
   "source": "forge_viewer.show([200],600,400)",
   "id": "be64340ce7c7118a",
   "outputs": [],
   "execution_count": null
  },
  {
   "metadata": {
    "ExecuteTime": {
     "end_time": "2024-12-17T04:47:07.022382Z",
     "start_time": "2024-12-17T04:47:07.016845Z"
    }
   },
   "cell_type": "code",
   "source": "forge_viewer.show([200], 500, 400)",
   "id": "b124da1c0fa38ae2",
   "outputs": [
    {
     "name": "stdout",
     "output_type": "stream",
     "text": [
      "Viewer Access: http://localhost:54364/viewer_dynamic_rendered.html\n"
     ]
    },
    {
     "data": {
      "text/plain": [
       "<IPython.lib.display.IFrame at 0x105b16c70>"
      ],
      "text/html": [
       "\n",
       "        <iframe\n",
       "            width=\"500\"\n",
       "            height=\"400\"\n",
       "            src=\"http://localhost:54364/viewer_dynamic_rendered.html\"\n",
       "            frameborder=\"0\"\n",
       "            allowfullscreen\n",
       "            \n",
       "        ></iframe>\n",
       "        "
      ]
     },
     "metadata": {},
     "output_type": "display_data"
    }
   ],
   "execution_count": 13
  }
 ],
 "metadata": {
  "kernelspec": {
   "display_name": "Python 3",
   "language": "python",
   "name": "python3"
  },
  "language_info": {
   "codemirror_mode": {
    "name": "ipython",
    "version": 2
   },
   "file_extension": ".py",
   "mimetype": "text/x-python",
   "name": "python",
   "nbconvert_exporter": "python",
   "pygments_lexer": "ipython2",
   "version": "2.7.6"
  }
 },
 "nbformat": 4,
 "nbformat_minor": 5
}
