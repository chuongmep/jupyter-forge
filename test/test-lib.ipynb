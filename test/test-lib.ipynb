{
 "cells": [
  {
   "cell_type": "code",
   "id": "initial_id",
   "metadata": {
    "collapsed": true,
    "ExecuteTime": {
     "end_time": "2024-12-17T02:57:15.349413Z",
     "start_time": "2024-12-17T02:57:14.740647Z"
    }
   },
   "source": "from src.jupyter_forge import JupyterForge",
   "outputs": [],
   "execution_count": 1
  },
  {
   "metadata": {
    "ExecuteTime": {
     "end_time": "2024-12-17T02:57:21.621581Z",
     "start_time": "2024-12-17T02:57:16.547978Z"
    }
   },
   "cell_type": "code",
   "source": [
    "urn = \"dXJuOmFkc2sud2lwcHJvZDpmcy5maWxlOnZmLkt6R2R1dDZzUklHZHhoNDlmeWZjQlE_dmVyc2lvbj00\"\n",
    "forge_viewer = JupyterForge(urn,debug_mode=True,port=8000)"
   ],
   "id": "ef968bc9afae7ded",
   "outputs": [
    {
     "name": "stdout",
     "output_type": "stream",
     "text": [
      "Port 8000 is not in use, start init server dir: D:\\API\\Forge\\jupyter-forge\\src\\template\n",
      "Server started successfully. Access: http://localhost:8000/viewer_dynamic_rendered.html\n"
     ]
    }
   ],
   "execution_count": 2
  },
  {
   "metadata": {
    "ExecuteTime": {
     "end_time": "2024-12-17T02:57:26.768684Z",
     "start_time": "2024-12-17T02:57:26.759500Z"
    }
   },
   "cell_type": "code",
   "source": "forge_viewer.show([200],600,400)",
   "id": "be64340ce7c7118a",
   "outputs": [
    {
     "name": "stdout",
     "output_type": "stream",
     "text": [
      "Viewer URL: http://localhost:8000/viewer_dynamic_rendered.html\n"
     ]
    },
    {
     "data": {
      "text/plain": [
       "<IPython.lib.display.IFrame at 0x19d9c7fd8e0>"
      ],
      "text/html": [
       "\n",
       "        <iframe\n",
       "            width=\"600\"\n",
       "            height=\"400\"\n",
       "            src=\"http://localhost:8000/viewer_dynamic_rendered.html\"\n",
       "            frameborder=\"0\"\n",
       "            allowfullscreen\n",
       "            \n",
       "        ></iframe>\n",
       "        "
      ]
     },
     "metadata": {},
     "output_type": "display_data"
    }
   ],
   "execution_count": 3
  },
  {
   "metadata": {
    "ExecuteTime": {
     "end_time": "2024-12-17T02:48:43.171241Z",
     "start_time": "2024-12-17T02:48:43.166123Z"
    }
   },
   "cell_type": "code",
   "source": "forge_viewer.show([200], 900, 400)",
   "id": "b124da1c0fa38ae2",
   "outputs": [
    {
     "name": "stdout",
     "output_type": "stream",
     "text": [
      "Viewer URL: http://localhost:62345/viewer_dynamic_rendered.html\n"
     ]
    },
    {
     "data": {
      "text/plain": [
       "<IPython.lib.display.IFrame at 0x1a6f9821b20>"
      ],
      "text/html": [
       "\n",
       "        <iframe\n",
       "            width=\"900\"\n",
       "            height=\"400\"\n",
       "            src=\"http://localhost:62345/viewer_dynamic_rendered.html\"\n",
       "            frameborder=\"0\"\n",
       "            allowfullscreen\n",
       "            \n",
       "        ></iframe>\n",
       "        "
      ]
     },
     "metadata": {},
     "output_type": "display_data"
    }
   ],
   "execution_count": 4
  }
 ],
 "metadata": {
  "kernelspec": {
   "display_name": "Python 3",
   "language": "python",
   "name": "python3"
  },
  "language_info": {
   "codemirror_mode": {
    "name": "ipython",
    "version": 2
   },
   "file_extension": ".py",
   "mimetype": "text/x-python",
   "name": "python",
   "nbconvert_exporter": "python",
   "pygments_lexer": "ipython2",
   "version": "2.7.6"
  }
 },
 "nbformat": 4,
 "nbformat_minor": 5
}
