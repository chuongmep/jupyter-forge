{
 "cells": [
  {
   "cell_type": "code",
   "metadata": {
    "ExecuteTime": {
     "end_time": "2024-12-16T14:17:42.972256Z",
     "start_time": "2024-12-16T14:17:42.694627Z"
    }
   },
   "source": [
    "from aps_toolkit import Auth\n",
    "import os\n",
    "import socket"
   ],
   "outputs": [
    {
     "name": "stderr",
     "output_type": "stream",
     "text": [
      "/Users/chuongmep/PycharmProjects/jupyter-forge/.venv/lib/python3.9/site-packages/urllib3/__init__.py:35: NotOpenSSLWarning: urllib3 v2 only supports OpenSSL 1.1.1+, currently the 'ssl' module is compiled with 'LibreSSL 2.8.3'. See: https://github.com/urllib3/urllib3/issues/3020\n",
      "  warnings.warn(\n"
     ]
    }
   ],
   "execution_count": 2
  },
  {
   "cell_type": "code",
   "metadata": {
    "ExecuteTime": {
     "end_time": "2024-12-16T14:17:43.810648Z",
     "start_time": "2024-12-16T14:17:42.980936Z"
    }
   },
   "source": [
    "token = Auth().auth2leg()"
   ],
   "outputs": [],
   "execution_count": 3
  },
  {
   "cell_type": "code",
   "metadata": {
    "ExecuteTime": {
     "end_time": "2024-12-16T14:17:43.818227Z",
     "start_time": "2024-12-16T14:17:43.816037Z"
    }
   },
   "source": "urn = \"dXJuOmFkc2sud2lwcHJvZDpmcy5maWxlOnZmLkt6R2R1dDZzUklHZHhoNDlmeWZjQlE_dmVyc2lvbj00\"",
   "outputs": [],
   "execution_count": 4
  },
  {
   "cell_type": "code",
   "metadata": {
    "ExecuteTime": {
     "end_time": "2024-12-16T14:17:43.835938Z",
     "start_time": "2024-12-16T14:17:43.831240Z"
    }
   },
   "source": [
    "import os\n",
    "import socket\n",
    "from subprocess import Popen, PIPE\n",
    "import random\n",
    "# Ensure the file path and directory\n",
    "file_path = r\"D:\\API\\Forge\\forge-jupyter-viewer\\viewer_dynamic_rendered.html\"\n",
    "dir = os.path.dirname(file_path)\n",
    "print(\"Directory: \", dir)\n",
    "# Port to serve\n",
    "def create_a_port_not_in_use():\n",
    "    port = random.randint(1024, 65535)\n",
    "    # check port is in use, if yes, random a new port\n",
    "    while is_port_in_use(port):\n",
    "        port = random.randint(1024, 65535)\n",
    "    return port\n",
    "# Function to check if a port is in use\n",
    "def is_port_in_use(port):\n",
    "    with socket.socket(socket.AF_INET, socket.SOCK_STREAM) as s:\n",
    "        return s.connect_ex((\"localhost\", port)) == 0\n",
    "port = create_a_port_not_in_use()\n",
    "# Validate the directory\n",
    "if not os.path.isdir(dir):\n",
    "    print(f\"Error: Directory does not exist or is invalid: {dir}\")\n",
    "    exit(1)\n",
    "    \n",
    "else:\n",
    "    # Start the server process\n",
    "    try:\n",
    "        print(f\"Starting HTTP server at http://localhost:{port}/viewer_dynamic_rendered.html\")\n",
    "        process = Popen(\n",
    "            [\"python\", \"-m\", \"http.server\", str(port), \"--directory\", dir],\n",
    "            stdout=PIPE,\n",
    "            stderr=PIPE,\n",
    "            cwd=dir  # Set working directory to serve files from the correct location\n",
    "        )\n",
    "        print(f\"Server started successfully. Access: http://localhost:{port}/viewer_dynamic_rendered.html\")\n",
    "    except Exception as e:\n",
    "        print(f\"Error starting server: {e}\")\n"
   ],
   "outputs": [
    {
     "name": "stdout",
     "output_type": "stream",
     "text": [
      "Directory:  \n",
      "Error: Directory does not exist or is invalid: \n"
     ]
    }
   ],
   "execution_count": 5
  },
  {
   "cell_type": "code",
   "metadata": {
    "ExecuteTime": {
     "end_time": "2024-12-16T14:17:43.851987Z",
     "start_time": "2024-12-16T14:17:43.849646Z"
    }
   },
   "source": [
    "# import os\n",
    "# import platform\n",
    "# import subprocess\n",
    "\n",
    "# def kill_port(port):\n",
    "#     system = platform.system()\n",
    "    \n",
    "#     if system == \"Windows\":\n",
    "#         # Find the process using port 8000\n",
    "#         result = subprocess.run(f\"netstat -ano | findstr :{port}\", capture_output=True, text=True, shell=True)\n",
    "#         for line in result.stdout.splitlines():\n",
    "#             if \"LISTENING\" in line:\n",
    "#                 pid = line.split()[-1]\n",
    "#                 print(f\"Killing process with PID {pid} on port {port}\")\n",
    "#                 os.system(f\"taskkill /PID {pid} /F\")\n",
    "#     elif system in [\"Linux\", \"Darwin\"]:  # macOS or Linux\n",
    "#         # Find the PID using the port\n",
    "#         result = subprocess.run(f\"lsof -i :{port}\", capture_output=True, text=True, shell=True)\n",
    "#         for line in result.stdout.splitlines()[1:]:\n",
    "#             pid = line.split()[1]\n",
    "#             print(f\"Killing process with PID {pid} on port {port}\")\n",
    "#             os.system(f\"kill -9 {pid}\")\n",
    "#     else:\n",
    "#         print(f\"Unsupported system: {system}\")\n",
    "\n",
    "# # Kill all processes on port 8000\n",
    "# kill_port(8000)\n"
   ],
   "outputs": [],
   "execution_count": 6
  },
  {
   "cell_type": "markdown",
   "metadata": {},
   "source": [
    "python -m http.server 8000 --directory \"file:///C:/Users/vho2/3D%20Objects/\""
   ]
  },
  {
   "cell_type": "code",
   "metadata": {
    "ExecuteTime": {
     "end_time": "2024-12-16T14:17:43.871024Z",
     "start_time": "2024-12-16T14:17:43.864183Z"
    }
   },
   "source": [
    "import os\n",
    "import subprocess\n",
    "from IPython.display import display, HTML\n",
    "from IPython.display import IFrame\n",
    "\n",
    "def show_viewer(urn, token,port,object_ids:list[int]=None):\n",
    "    access_token = token.access_token\n",
    "    with open(\"template/viewer_dynamic.html\", \"r\") as file:\n",
    "        html_template = file.read()\n",
    "    html_content = html_template.replace(\"{{TOKEN}}\", access_token).replace(\"{{URN}}\", urn)\n",
    "    if object_ids:\n",
    "        objects_ids_str = \",\".join(map(str, object_ids))\n",
    "        html_content = html_content.replace(\"{{OBJECT_IDS}}\", objects_ids_str)\n",
    "    output_file = \"viewer_dynamic_rendered.html\"\n",
    "    with open(output_file, \"w\") as file:\n",
    "        file.write(html_content)\n",
    "    file_path = os.path.abspath(output_file)\n",
    "    dir = os.path.dirname(file_path)\n",
    "    # subprocess.Popen([\"python\", \"-m\", \"http.server\", \"8000\", \"--directory\", f\"file:///{dir}\"])\n",
    "    iframe = IFrame(src=f\"http://localhost:{port}/{output_file}\", width=600, height=400)\n",
    "    display(iframe)\n",
    "show_viewer(urn, token, port,None)"
   ],
   "outputs": [
    {
     "data": {
      "text/plain": [
       "<IPython.lib.display.IFrame at 0x10523e580>"
      ],
      "text/html": [
       "\n",
       "        <iframe\n",
       "            width=\"600\"\n",
       "            height=\"400\"\n",
       "            src=\"http://localhost:46976/viewer_dynamic_rendered.html\"\n",
       "            frameborder=\"0\"\n",
       "            allowfullscreen\n",
       "            \n",
       "        ></iframe>\n",
       "        "
      ]
     },
     "metadata": {},
     "output_type": "display_data"
    }
   ],
   "execution_count": 7
  },
  {
   "cell_type": "code",
   "metadata": {
    "ExecuteTime": {
     "end_time": "2024-12-16T14:17:43.883230Z",
     "start_time": "2024-12-16T14:17:43.879678Z"
    }
   },
   "source": [
    "show_viewer(urn, token, port,None)"
   ],
   "outputs": [
    {
     "data": {
      "text/plain": [
       "<IPython.lib.display.IFrame at 0x1051d5760>"
      ],
      "text/html": [
       "\n",
       "        <iframe\n",
       "            width=\"600\"\n",
       "            height=\"400\"\n",
       "            src=\"http://localhost:46976/viewer_dynamic_rendered.html\"\n",
       "            frameborder=\"0\"\n",
       "            allowfullscreen\n",
       "            \n",
       "        ></iframe>\n",
       "        "
      ]
     },
     "metadata": {},
     "output_type": "display_data"
    }
   ],
   "execution_count": 8
  },
  {
   "cell_type": "code",
   "metadata": {
    "ExecuteTime": {
     "end_time": "2024-12-16T14:17:43.902241Z",
     "start_time": "2024-12-16T14:17:43.898792Z"
    }
   },
   "source": [
    "object_ids = [101239,120947]\n",
    "show_viewer(urn, token, port,object_ids)\n"
   ],
   "outputs": [
    {
     "data": {
      "text/plain": [
       "<IPython.lib.display.IFrame at 0x1051f1280>"
      ],
      "text/html": [
       "\n",
       "        <iframe\n",
       "            width=\"600\"\n",
       "            height=\"400\"\n",
       "            src=\"http://localhost:46976/viewer_dynamic_rendered.html\"\n",
       "            frameborder=\"0\"\n",
       "            allowfullscreen\n",
       "            \n",
       "        ></iframe>\n",
       "        "
      ]
     },
     "metadata": {},
     "output_type": "display_data"
    }
   ],
   "execution_count": 9
  }
 ],
 "metadata": {
  "kernelspec": {
   "display_name": "Python 3",
   "language": "python",
   "name": "python3"
  },
  "language_info": {
   "codemirror_mode": {
    "name": "ipython",
    "version": 3
   },
   "file_extension": ".py",
   "mimetype": "text/x-python",
   "name": "python",
   "nbconvert_exporter": "python",
   "pygments_lexer": "ipython3",
   "version": "3.12.0"
  }
 },
 "nbformat": 4,
 "nbformat_minor": 2
}
