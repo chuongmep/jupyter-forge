{
 "cells": [
  {
   "cell_type": "code",
   "id": "initial_id",
   "metadata": {
    "collapsed": true,
    "ExecuteTime": {
     "end_time": "2024-12-17T00:18:21.437198Z",
     "start_time": "2024-12-17T00:18:21.433192Z"
    }
   },
   "source": "from jupyter_forge import JupyterForge",
   "outputs": [],
   "execution_count": 8
  },
  {
   "metadata": {
    "ExecuteTime": {
     "end_time": "2024-12-17T00:18:27.233949Z",
     "start_time": "2024-12-17T00:18:26.567467Z"
    }
   },
   "cell_type": "code",
   "source": [
    "urn = \"dXJuOmFkc2sud2lwcHJvZDpmcy5maWxlOnZmLkt6R2R1dDZzUklHZHhoNDlmeWZjQlE_dmVyc2lvbj00\"\n",
    "forge_viewer = JupyterForge(urn,debug_mode=True)"
   ],
   "id": "ef968bc9afae7ded",
   "outputs": [
    {
     "name": "stdout",
     "output_type": "stream",
     "text": [
      "Port: 16099\n",
      "Server started successfully. Access: http://localhost:16099/viewer_dynamic_rendered.html\n"
     ]
    }
   ],
   "execution_count": 10
  },
  {
   "metadata": {
    "ExecuteTime": {
     "end_time": "2024-12-17T00:18:32.038554Z",
     "start_time": "2024-12-17T00:18:32.033120Z"
    }
   },
   "cell_type": "code",
   "source": "forge_viewer.show([200])",
   "id": "be64340ce7c7118a",
   "outputs": [
    {
     "name": "stdout",
     "output_type": "stream",
     "text": [
      "Viewer URL: http://localhost:16099/./template/viewer_dynamic_rendered.html\n"
     ]
    },
    {
     "data": {
      "text/plain": [
       "<IPython.lib.display.IFrame at 0x1075d1640>"
      ],
      "text/html": [
       "\n",
       "        <iframe\n",
       "            width=\"600\"\n",
       "            height=\"350\"\n",
       "            src=\"http://localhost:16099/./template/viewer_dynamic_rendered.html\"\n",
       "            frameborder=\"0\"\n",
       "            allowfullscreen\n",
       "            \n",
       "        ></iframe>\n",
       "        "
      ]
     },
     "metadata": {},
     "output_type": "display_data"
    }
   ],
   "execution_count": 11
  },
  {
   "metadata": {
    "ExecuteTime": {
     "end_time": "2024-12-16T14:46:33.619246Z",
     "start_time": "2024-12-16T14:46:33.615104Z"
    }
   },
   "cell_type": "code",
   "source": "forge_viewer.show([200], 900, 400)",
   "id": "b124da1c0fa38ae2",
   "outputs": [
    {
     "name": "stdout",
     "output_type": "stream",
     "text": [
      "Viewer URL: http://localhost:29292/./template/viewer_dynamic_rendered.html\n"
     ]
    },
    {
     "data": {
      "text/plain": [
       "<IPython.lib.display.IFrame at 0x1231ed880>"
      ],
      "text/html": [
       "\n",
       "        <iframe\n",
       "            width=\"900\"\n",
       "            height=\"400\"\n",
       "            src=\"http://localhost:29292/./template/viewer_dynamic_rendered.html\"\n",
       "            frameborder=\"0\"\n",
       "            allowfullscreen\n",
       "            \n",
       "        ></iframe>\n",
       "        "
      ]
     },
     "metadata": {},
     "output_type": "display_data"
    }
   ],
   "execution_count": 7
  }
 ],
 "metadata": {
  "kernelspec": {
   "display_name": "Python 3",
   "language": "python",
   "name": "python3"
  },
  "language_info": {
   "codemirror_mode": {
    "name": "ipython",
    "version": 2
   },
   "file_extension": ".py",
   "mimetype": "text/x-python",
   "name": "python",
   "nbconvert_exporter": "python",
   "pygments_lexer": "ipython2",
   "version": "2.7.6"
  }
 },
 "nbformat": 4,
 "nbformat_minor": 5
}
