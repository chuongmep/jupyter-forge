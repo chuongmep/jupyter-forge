{
 "cells": [
  {
   "cell_type": "code",
   "execution_count": 1,
   "id": "initial_id",
   "metadata": {
    "ExecuteTime": {
     "end_time": "2024-12-17T12:58:40.180757Z",
     "start_time": "2024-12-17T12:58:39.094690Z"
    },
    "collapsed": true
   },
   "outputs": [],
   "source": [
    "from jupyter_forge import JupyterForge\n",
    "from aps_toolkit import Auth"
   ]
  },
  {
   "cell_type": "code",
   "execution_count": 2,
   "id": "ef968bc9afae7ded",
   "metadata": {
    "ExecuteTime": {
     "end_time": "2024-12-17T13:16:07.022957Z",
     "start_time": "2024-12-17T13:16:02.238686Z"
    }
   },
   "outputs": [
    {
     "name": "stdout",
     "output_type": "stream",
     "text": [
      "Port 62345 is not in use, start init server dir: /Users/chuongmep/PycharmProjects/jupyter-forge/src/template\n",
      "Server PID: 21719\n",
      "Server started successfully. Access: http://localhost:62345\n"
     ]
    }
   ],
   "source": [
    "urn = \"dXJuOmFkc2sud2lwcHJvZDpmcy5maWxlOnZmLlFsa1ZtVU5RUmYtanMtd3dLQ2dLM1E_dmVyc2lvbj0x\"\n",
    "token = Auth().auth2leg()\n",
    "# forge_viewer = JupyterForge(urn,token,debug_mode=True,port=54364)\n",
    "forge_viewer = JupyterForge(urn,token,port=62345, debug_mode=True)"
   ]
  },
  {
   "cell_type": "code",
   "execution_count": 5,
   "id": "b3f8b04d",
   "metadata": {
    "ExecuteTime": {
     "end_time": "2024-12-17T13:18:15.063314Z",
     "start_time": "2024-12-17T13:18:15.053979Z"
    }
   },
   "outputs": [
    {
     "name": "stdout",
     "output_type": "stream",
     "text": [
      "http://localhost:62345/rendered.html\n"
     ]
    },
    {
     "data": {
      "text/html": [
       "\n",
       "        <iframe\n",
       "            width=\"800\"\n",
       "            height=\"450\"\n",
       "            src=\"http://localhost:62345/rendered.html\"\n",
       "            frameborder=\"0\"\n",
       "            allowfullscreen\n",
       "            \n",
       "        ></iframe>\n",
       "        "
      ],
      "text/plain": [
       "<IPython.lib.display.IFrame at 0x16759bf80>"
      ]
     },
     "metadata": {},
     "output_type": "display_data"
    }
   ],
   "source": [
    "forge_viewer.show(object_ids=None,width=800,height=450)"
   ]
  },
  {
   "cell_type": "code",
   "execution_count": 4,
   "id": "be64340ce7c7118a",
   "metadata": {
    "ExecuteTime": {
     "end_time": "2024-12-17T13:19:04.202210Z",
     "start_time": "2024-12-17T13:19:04.192611Z"
    }
   },
   "outputs": [],
   "source": [
    "# forge_viewer.show(object_ids=[450],width=700,height=450)"
   ]
  }
 ],
 "metadata": {
  "kernelspec": {
   "display_name": "base",
   "language": "python",
   "name": "python3"
  },
  "language_info": {
   "codemirror_mode": {
    "name": "ipython",
    "version": 3
   },
   "file_extension": ".py",
   "mimetype": "text/x-python",
   "name": "python",
   "nbconvert_exporter": "python",
   "pygments_lexer": "ipython3",
   "version": "3.12.4"
  }
 },
 "nbformat": 4,
 "nbformat_minor": 5
}
