{
 "cells": [
  {
   "cell_type": "code",
   "id": "initial_id",
   "metadata": {
    "collapsed": true,
    "ExecuteTime": {
     "end_time": "2024-12-17T08:34:21.323599Z",
     "start_time": "2024-12-17T08:34:20.684356Z"
    }
   },
   "source": [
    "from jupyter_forge import JupyterForge\n",
    "from aps_toolkit import Auth"
   ],
   "outputs": [],
   "execution_count": 1
  },
  {
   "cell_type": "code",
   "id": "ef968bc9afae7ded",
   "metadata": {
    "ExecuteTime": {
     "end_time": "2024-12-17T08:34:26.167924Z",
     "start_time": "2024-12-17T08:34:21.331611Z"
    }
   },
   "source": [
    "urn = \"dXJuOmFkc2sud2lwcHJvZDpmcy5maWxlOnZmLlFsa1ZtVU5RUmYtanMtd3dLQ2dLM1E_dmVyc2lvbj0x\"\n",
    "token = Auth().auth2leg()\n",
    "# forge_viewer = JupyterForge(urn,token,debug_mode=True,port=54364)\n",
    "forge_viewer = JupyterForge(urn,token,port=62345, debug_mode=False)"
   ],
   "outputs": [],
   "execution_count": 2
  },
  {
   "cell_type": "code",
   "id": "be64340ce7c7118a",
   "metadata": {
    "ExecuteTime": {
     "end_time": "2024-12-17T08:35:30.238872Z",
     "start_time": "2024-12-17T08:35:30.229587Z"
    }
   },
   "source": "forge_viewer.show([219],600,450)",
   "outputs": [
    {
     "name": "stdout",
     "output_type": "stream",
     "text": [
      "file_path D:\\API\\Forge\\jupyter-forge\\src\\template\\index.html\n"
     ]
    },
    {
     "data": {
      "text/plain": [
       "<IPython.lib.display.IFrame at 0x1bb7f5bde20>"
      ],
      "text/html": [
       "\n",
       "        <iframe\n",
       "            width=\"600\"\n",
       "            height=\"450\"\n",
       "            src=\"http://localhost:62345/rendered.html\"\n",
       "            frameborder=\"0\"\n",
       "            allowfullscreen\n",
       "            \n",
       "        ></iframe>\n",
       "        "
      ]
     },
     "metadata": {},
     "output_type": "display_data"
    }
   ],
   "execution_count": 4
  }
 ],
 "metadata": {
  "kernelspec": {
   "display_name": "base",
   "language": "python",
   "name": "python3"
  },
  "language_info": {
   "codemirror_mode": {
    "name": "ipython",
    "version": 3
   },
   "file_extension": ".py",
   "mimetype": "text/x-python",
   "name": "python",
   "nbconvert_exporter": "python",
   "pygments_lexer": "ipython3",
   "version": "3.12.4"
  }
 },
 "nbformat": 4,
 "nbformat_minor": 5
}
